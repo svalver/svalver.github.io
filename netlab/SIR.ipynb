{
  "metadata": {
    "language_info": {
      "codemirror_mode": {
        "name": "python",
        "version": 3
      },
      "file_extension": ".py",
      "mimetype": "text/x-python",
      "name": "python",
      "nbconvert_exporter": "python",
      "pygments_lexer": "ipython3",
      "version": "3.8"
    },
    "kernelspec": {
      "name": "python",
      "display_name": "Python (Pyodide)",
      "language": "python"
    }
  },
  "nbformat_minor": 4,
  "nbformat": 4,
  "cells": [
    {
      "cell_type": "code",
      "source": "## import all the necessary python packages\nimport networkx as nx\nimport numpy as np\nfrom matplotlib import pyplot as plt\nimport piplite\nawait piplite.install ('ipywidgets')\nimport ipywidgets as widgets",
      "metadata": {
        "trusted": true
      },
      "execution_count": 1,
      "outputs": []
    },
    {
      "cell_type": "code",
      "source": "SUSCEPTIBLE=0\nINFECTED=1\nRECOVERED=2\n\nclass SIR:\n    def __init__ (self, N): \n        self.N = N\n    \n    def begin (self, p):\n        N = self.N\n        self.X = np.zeros([N,N])\n        c = (int(N/2), int(N/2))\n        self.X[c] = INFECTED\n        self.X[(c[0]+1, c[1]+1)] = INFECTED  \n        self.p = p\n    \n    def update(self,t,p):\n        if t == 0:\n            self.begin(p)\n        else:\n            self.step()\n        plt.imshow(self.X)\n        plt.show()    \n\n    def step(self):\n        # to do\n        pass\n        \nsir = SIR(50)\nw = widgets.interact(sir.update, t=widgets.Play(min=0,max=100),p=(0,0.7,0.01))",
      "metadata": {},
      "execution_count": null,
      "outputs": []
    }
  ]
}