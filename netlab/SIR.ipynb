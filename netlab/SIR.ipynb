{
  "cells": [
    {
      "cell_type": "code",
      "execution_count": null,
      "metadata": {
        "trusted": true
      },
      "outputs": [],
      "source": [
        "## import all the necessary python packages\n",
        "import networkx as nx\n",
        "import numpy as np\n",
        "from matplotlib import pyplot as plt\n",
        "import piplite\n",
        "await piplite.install ('ipywidgets')\n",
        "import ipywidgets as widgets"
      ]
    },
    {
      "cell_type": "code",
      "execution_count": null,
      "metadata": {
        "trusted": true
      },
      "outputs": [],
      "source": [
        "SUSCEPTIBLE=0\n",
        "INFECTED=1\n",
        "RECOVERED=2\n",
        "\n",
        "class SIR:\n",
        "    def __init__ (self, N): \n",
        "        self.N = N\n",
        "    \n",
        "    def begin (self, p):\n",
        "        N = self.N\n",
        "        self.X = np.zeros([N,N])\n",
        "        c = (int(N/2), int(N/2))\n",
        "        self.X[c] = INFECTED\n",
        "        self.X[(c[0]+1, c[1]+1)] = INFECTED  \n",
        "        self.p = p\n",
        "    \n",
        "    def update(self,t,p):\n",
        "        if t == 0:\n",
        "            self.begin(p)\n",
        "        else:\n",
        "            self.step()\n",
        "        plt.imshow(self.X)\n",
        "        plt.show()    \n",
        "\n",
        "    def step(self):\n",
        "        # to do\n",
        "        pass\n",
        "        \n",
        "sir = SIR(50)\n",
        "w = widgets.interact(sir.update, t=widgets.Play(min=0,max=100),p=(0,0.7,0.01))"
      ]
    },
    {
      "cell_type": "code",
      "execution_count": null,
      "metadata": {},
      "outputs": [],
      "source": []
    }
  ],
  "metadata": {
    "kernelspec": {
      "display_name": "Python 3.9.6 64-bit",
      "language": "python",
      "name": "python3"
    },
    "language_info": {
      "codemirror_mode": {
        "name": "python",
        "version": 3
      },
      "file_extension": ".py",
      "mimetype": "text/x-python",
      "name": "python",
      "nbconvert_exporter": "python",
      "pygments_lexer": "ipython3",
      "version": "3.9.6"
    },
    "vscode": {
      "interpreter": {
        "hash": "31f2aee4e71d21fbe5cf8b01ff0e069b9275f58929596ceb00d14d90e3e16cd6"
      }
    }
  },
  "nbformat": 4,
  "nbformat_minor": 4
}
